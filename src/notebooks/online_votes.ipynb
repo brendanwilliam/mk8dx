{
 "cells": [
  {
   "cell_type": "markdown",
   "metadata": {},
   "source": [
    "# Mario Kart 8 Deluxe (+DLC) Online Voting\n",
    "Mario Kart 8 Deluxe is the 6th best selling game of all time[^1] making it the most popular of the Mario Kart franchise. With the addition of the *Mario Kart 8 Deluxe — Booster Course Pass*, the game boasts 96 courses, 48 characters, 41 vehicles, 22 tires, and 15 gliders. For players familiar with older installments of the Mario Kart franchise, this amount of information is overwhelming.\n",
    "\n",
    "After graduating college, I finally had time to play video games again. While I used to play League of Legends and CS:GO, those games require too much dedicated time and effort to master. Instead, I picked up my favorite game, Mario Kart 8 Deluxe.\n",
    "\n",
    "It had been a few years since I played and was delighted to find a 48-course expansion which included my favorite track growing up, DK Summit. As I played through the new cups, I felt overwhelmed by the number of courses I was unfamiliar with.\n",
    "\n",
    "\n",
    "[^1]: Wikipedia - List of Best Selling Video Games"
   ]
  }
 ],
 "metadata": {
  "language_info": {
   "name": "python"
  }
 },
 "nbformat": 4,
 "nbformat_minor": 2
}
